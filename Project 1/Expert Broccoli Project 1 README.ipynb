{
 "cells": [
  {
   "cell_type": "markdown",
   "metadata": {},
   "source": [
    "<u>**Project 1**</u>\n",
    "\n",
    "**Title:** WomenTechWomenYes Street Team Strategy\n",
    "\n",
    "**Description:**\n",
    "\n",
    "In this project, we present a strategy for the WomenTechWomenYes Street Team of volunteers to reach out to the public at New York City MTA subway stations. We analyzed data from the MTA system, and prioritized which subway stations the Street Team should target by number of station entries, days of the week, and times of the day with the highest traffic. We also suggest additional variables that WomenTechWomenYes may want to consider, to extend and improve outreach in the New York City metorpolitan area.\n",
    "\n",
    "**Features and Target Variables:**\n",
    "\n",
    "​\t**Features:**  MTA station name, Turnstile (combination of C/A, Unit, and SCP \tfeatures), Date, Time of Day\n",
    "\n",
    "​\t**Target Variables:** Entries\n",
    "\n",
    "**Tools Used:**\n",
    "\n",
    "Jupyter Notebooks, Web browsers, Pandas, Matplotlib, Google Slides, Slack, Zoom, Typora.\n",
    "\n",
    "**Data sources:**\n",
    "\n",
    "MTA ridership data: http://web.mta.info/developers/turnstile.html \n",
    "\n",
    "Income data: https://www.census.gov/quickfacts/newyorkcitynewyork\n",
    "\n",
    "**Possible Impacts of this Project:**\n",
    "\n",
    "It is our hope that WomenTechWomenYes will be able to use our proposed strategy to increase their outreach in the New York City metropolitan area, and by doing so increase their participation in their annual Early Summer Gala and their overall donor base.\n"
   ]
  },
  {
   "cell_type": "code",
   "execution_count": null,
   "metadata": {},
   "outputs": [],
   "source": []
  }
 ],
 "metadata": {
  "kernelspec": {
   "display_name": "Python 3",
   "language": "python",
   "name": "python3"
  },
  "language_info": {
   "codemirror_mode": {
    "name": "ipython",
    "version": 3
   },
   "file_extension": ".py",
   "mimetype": "text/x-python",
   "name": "python",
   "nbconvert_exporter": "python",
   "pygments_lexer": "ipython3",
   "version": "3.7.4"
  }
 },
 "nbformat": 4,
 "nbformat_minor": 2
}
